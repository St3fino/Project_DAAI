{
 "cells": [
  {
   "cell_type": "code",
   "execution_count": 2,
   "id": "c454552d-787f-4acf-af6f-ec7ed7c26fde",
   "metadata": {
    "tags": []
   },
   "outputs": [
    {
     "name": "stdout",
     "output_type": "stream",
     "text": [
      "Note: you may need to restart the kernel to use updated packages.Looking in indexes: https://download.pytorch.org/whl/cu118\n",
      "Collecting torch==2.1.0 (from -r requirements.txt (line 2))\n",
      "  Using cached https://download.pytorch.org/whl/cu118/torch-2.1.0%2Bcu118-cp311-cp311-win_amd64.whl (2722.7 MB)\n",
      "Collecting torchvision==0.16.0 (from -r requirements.txt (line 3))\n",
      "  Using cached https://download.pytorch.org/whl/cu118/torchvision-0.16.0%2Bcu118-cp311-cp311-win_amd64.whl (5.0 MB)\n",
      "Requirement already satisfied: tqdm in c:\\users\\stefa\\anaconda3\\lib\\site-packages (from -r requirements.txt (line 4)) (4.65.0)\n",
      "Collecting torchmetrics (from -r requirements.txt (line 5))\n",
      "  Using cached https://download.pytorch.org/whl/torchmetrics-1.0.3-py3-none-any.whl (731 kB)\n",
      "Requirement already satisfied: filelock in c:\\users\\stefa\\anaconda3\\lib\\site-packages (from torch==2.1.0->-r requirements.txt (line 2)) (3.9.0)\n",
      "Requirement already satisfied: typing-extensions in c:\\users\\stefa\\anaconda3\\lib\\site-packages (from torch==2.1.0->-r requirements.txt (line 2)) (4.7.1)\n",
      "Requirement already satisfied: sympy in c:\\users\\stefa\\anaconda3\\lib\\site-packages (from torch==2.1.0->-r requirements.txt (line 2)) (1.11.1)\n",
      "Requirement already satisfied: networkx in c:\\users\\stefa\\anaconda3\\lib\\site-packages (from torch==2.1.0->-r requirements.txt (line 2)) (3.1)\n",
      "Requirement already satisfied: jinja2 in c:\\users\\stefa\\anaconda3\\lib\\site-packages (from torch==2.1.0->-r requirements.txt (line 2)) (3.1.2)\n",
      "Requirement already satisfied: fsspec in c:\\users\\stefa\\anaconda3\\lib\\site-packages (from torch==2.1.0->-r requirements.txt (line 2)) (2023.4.0)\n",
      "Requirement already satisfied: numpy in c:\\users\\stefa\\anaconda3\\lib\\site-packages (from torchvision==0.16.0->-r requirements.txt (line 3)) (1.24.3)\n",
      "Requirement already satisfied: requests in c:\\users\\stefa\\anaconda3\\lib\\site-packages (from torchvision==0.16.0->-r requirements.txt (line 3)) (2.31.0)\n",
      "Requirement already satisfied: pillow!=8.3.*,>=5.3.0 in c:\\users\\stefa\\anaconda3\\lib\\site-packages (from torchvision==0.16.0->-r requirements.txt (line 3)) (9.4.0)\n",
      "Requirement already satisfied: colorama in c:\\users\\stefa\\anaconda3\\lib\\site-packages (from tqdm->-r requirements.txt (line 4)) (0.4.6)\n",
      "Requirement already satisfied: packaging in c:\\users\\stefa\\anaconda3\\lib\\site-packages (from torchmetrics->-r requirements.txt (line 5)) (23.1)\n",
      "INFO: pip is looking at multiple versions of torchmetrics to determine which version is compatible with other requirements. This could take a while.\n",
      "\n"
     ]
    },
    {
     "name": "stderr",
     "output_type": "stream",
     "text": [
      "ERROR: Could not find a version that satisfies the requirement lightning-utilities>=0.7.0 (from torchmetrics) (from versions: none)\n",
      "ERROR: No matching distribution found for lightning-utilities>=0.7.0\n"
     ]
    }
   ],
   "source": [
    "pip install -r requirements.txt"
   ]
  },
  {
   "cell_type": "code",
   "execution_count": null,
   "id": "fecfdc45-ceed-4eb0-b680-f0a48299b411",
   "metadata": {},
   "outputs": [],
   "source": []
  }
 ],
 "metadata": {
  "kernelspec": {
   "display_name": "Python 3 (ipykernel)",
   "language": "python",
   "name": "python3"
  },
  "language_info": {
   "codemirror_mode": {
    "name": "ipython",
    "version": 3
   },
   "file_extension": ".py",
   "mimetype": "text/x-python",
   "name": "python",
   "nbconvert_exporter": "python",
   "pygments_lexer": "ipython3",
   "version": "3.11.5"
  }
 },
 "nbformat": 4,
 "nbformat_minor": 5
}
